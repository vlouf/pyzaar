{
 "cells": [
  {
   "cell_type": "code",
   "execution_count": 1,
   "metadata": {},
   "outputs": [],
   "source": [
    "import os"
   ]
  },
  {
   "cell_type": "code",
   "execution_count": 2,
   "metadata": {},
   "outputs": [],
   "source": [
    "for year in range(1999, 2017):\n",
    "    if year == 2008:\n",
    "        continue\n",
    "#     path = f\"/g/data2/rr5/arm/data_berr/BERR_CZVRVE_ppi_netcdf/{season}\"\n",
    "#     if not os.path.exists(path):\n",
    "#         continue\n",
    "\n",
    "    txt = f\"\"\"#!/bin/bash\n",
    "#PBS -P kl02\n",
    "#PBS -q express\n",
    "#PBS -l walltime=4:00:00\n",
    "#PBS -l mem=2GB\n",
    "#PBS -l wd\n",
    "#PBS -l ncpus=16\n",
    "\n",
    "conda activate radar\n",
    "python zipdir.py -s {year}0101 -e {year}1231\n",
    "\"\"\"\n",
    "#     print(txt)\n",
    "\n",
    "    with open(f\"qzipvol_{year}.pbs\", \"w+\") as fid:\n",
    "        fid.write(txt)"
   ]
  },
  {
   "cell_type": "code",
   "execution_count": 3,
   "metadata": {
    "scrolled": true
   },
   "outputs": [
    {
     "name": "stdout",
     "output_type": "stream",
     "text": [
      "pbs\t\t  qzipvol_2002.pbs  qzipvol_2007.pbs  qzipvol_2013.pbs\r\n",
      "pbs_gen.ipynb\t  qzipvol_2003.pbs  qzipvol_2009.pbs  qzipvol_2014.pbs\r\n",
      "qzipvol_1999.pbs  qzipvol_2004.pbs  qzipvol_2010.pbs  qzipvol_2015.pbs\r\n",
      "qzipvol_2000.pbs  qzipvol_2005.pbs  qzipvol_2011.pbs  qzipvol_2016.pbs\r\n",
      "qzipvol_2001.pbs  qzipvol_2006.pbs  qzipvol_2012.pbs  zipdir.py\r\n"
     ]
    }
   ],
   "source": [
    "!ls"
   ]
  },
  {
   "cell_type": "code",
   "execution_count": 8,
   "metadata": {
    "scrolled": true
   },
   "outputs": [
    {
     "name": "stdout",
     "output_type": "stream",
     "text": [
      "#!/bin/bash\r\n",
      "#PBS -P kl02\r\n",
      "#PBS -q express\r\n",
      "#PBS -l walltime=2:00:00\r\n",
      "#PBS -l mem=2GB\r\n",
      "#PBS -l wd\r\n",
      "#PBS -l ncpus=16\r\n",
      "\r\n",
      "conda activate radar\r\n",
      "python zipdir.py -s 19970101 -e 19971231\r\n"
     ]
    }
   ],
   "source": [
    "!cat qzipvol_1997.pbs"
   ]
  },
  {
   "cell_type": "code",
   "execution_count": null,
   "metadata": {},
   "outputs": [],
   "source": []
  }
 ],
 "metadata": {
  "kernelspec": {
   "display_name": "Python 3",
   "language": "python",
   "name": "python3"
  },
  "language_info": {
   "codemirror_mode": {
    "name": "ipython",
    "version": 3
   },
   "file_extension": ".py",
   "mimetype": "text/x-python",
   "name": "python",
   "nbconvert_exporter": "python",
   "pygments_lexer": "ipython3",
   "version": "3.7.3"
  }
 },
 "nbformat": 4,
 "nbformat_minor": 2
}
